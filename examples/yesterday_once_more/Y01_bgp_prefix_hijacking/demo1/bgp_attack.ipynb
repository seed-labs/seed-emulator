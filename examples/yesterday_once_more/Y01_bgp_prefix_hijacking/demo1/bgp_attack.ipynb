{
 "cells": [
  {
   "cell_type": "markdown",
   "id": "c7c3200f-cd40-4986-b1c3-cb9432bc8b1e",
   "metadata": {},
   "source": [
    "# BGP Prefix Hijacking Attack"
   ]
  },
  {
   "cell_type": "markdown",
   "id": "550306c9-42a0-4671-b72c-f0a302171b51",
   "metadata": {},
   "source": [
    "## Environment Setup\n",
    "\n",
    "First, let us run the emulator. \n",
    "\n",
    "In this lab, we use AS-199 to hijact AS-153's IP prefix `10.153.0.0/24`. To help observe the attack effect, we first ping one of the AS-153's machine. On the Internet Map, we should be able to see how the packets flow (type in `icmp` in the `Filter` field, followed by a return)."
   ]
  },
  {
   "cell_type": "code",
   "execution_count": null,
   "id": "f0fcaf62-fe43-4cbc-9271-59678efb1155",
   "metadata": {},
   "outputs": [],
   "source": [
    "%%bash --bg\n",
    "docker exec as151h-host_0-10.151.0.71 ping 10.153.0.71"
   ]
  },
  {
   "cell_type": "markdown",
   "id": "488c08d5-11b1-4f64-afe6-70004ace09bf",
   "metadata": {},
   "source": [
    "## 1. Hijack AS-153\n",
    "\n",
    "Step 1: The attacker is AS-199, so we first get AS-199's BGP configuration file, and make the corresponding changes. We can use the following command to get the configuration file."
   ]
  },
  {
   "cell_type": "code",
   "execution_count": null,
   "id": "5cea8958-4fd3-4a7f-955b-c990cd5a48e5",
   "metadata": {},
   "outputs": [],
   "source": [
    "!docker cp as199brd-attacker-bgp-10.199.0.254:/etc/bird/bird.conf ./as199_bird.conf"
   ]
  },
  {
   "cell_type": "markdown",
   "id": "1a1d9c2d-4a77-4c24-9846-b08343e6bd38",
   "metadata": {},
   "source": [
    "Step 2: We add the following content to AS-199's BGP configuration file. "
   ]
  },
  {
   "cell_type": "markdown",
   "id": "fb8d0597-6ce9-4d63-9528-b059f4469f58",
   "metadata": {},
   "source": [
    "```\n",
    "##############################################\n",
    "# Added BGP Attack\n",
    "# Hijack AS153's network prefix 10.153.0/24\n",
    "##############################################\n",
    "\n",
    "protocol static {\n",
    "  ipv4 { table t_bgp;  };\n",
    "  route 10.153.0.0/25 blackhole   {\n",
    "      bgp_large_community.add(LOCAL_COMM);\n",
    "  };\n",
    "  route 10.153.0.128/25 blackhole {\n",
    "      bgp_large_community.add(LOCAL_COMM);\n",
    "  };\n",
    "}\n",
    "```"
   ]
  },
  {
   "cell_type": "markdown",
   "id": "1f159bd9-570d-462a-bc42-106f5b891741",
   "metadata": {},
   "source": [
    "Step 3: After finishing editing the configuration file, we copy the file back to AS-199's BGProuter, and then restart the BGP deamon for the changes to take effect. For the sake of convenience, we have already placed the modified configration in `as199brd_bird.conf_malicious`."
   ]
  },
  {
   "cell_type": "code",
   "execution_count": null,
   "id": "c90eb559-b571-499f-914f-0219712342fa",
   "metadata": {},
   "outputs": [],
   "source": [
    "%%bash\n",
    "docker cp  as199brd_bird.conf_malicious as199brd-attacker-bgp-10.199.0.254:/etc/bird/bird.conf\n",
    "docker exec as199brd-attacker-bgp-10.199.0.254 birdc configure"
   ]
  },
  {
   "cell_type": "markdown",
   "id": "75fa08d8-e9d2-4af6-96ba-f21725823f0a",
   "metadata": {},
   "source": [
    "Step 4: From the Internet Map, we can see that the packet flow has changed, they are now going to AS-199. When we `ping 10.153.0.71` from any machine, we won't be able to get any response. Let us take a look at the router on  `as3brd-r103-10.103.0.3` (this BGP router belongs to AS-3, which is a transit autonomous system). We can see that AS-153 has three records in the rounting table. The two entries `10.153.0.0/25` and `10.153.0.128/25` completely cover `10.153.0.0/24`。From the routing entries, we can see that the next-hop router for the `10.153.0.0/25` and `10.153.0.128/25` networks is `10.3.0.254`, while the next-hop router for the `10.153.0.0/24` network is `10.3.3.253`. They are going to different directions. "
   ]
  },
  {
   "cell_type": "code",
   "execution_count": null,
   "id": "26ded91b-79f1-44c9-b493-1bb4d22ca6b8",
   "metadata": {},
   "outputs": [],
   "source": [
    "!docker exec as3brd-r103-10.103.0.3 ip route"
   ]
  },
  {
   "cell_type": "markdown",
   "id": "6a4d06ba-1423-42bf-a41b-b1f64854801b",
   "metadata": {},
   "source": [
    "## 2. AS-153's fightback"
   ]
  },
  {
   "cell_type": "markdown",
   "id": "ad994221-fcbb-46bb-9702-538dd3727f43",
   "metadata": {},
   "source": [
    "Step 1：AS-153 can use the same technique to \"hijack\" its IP prefix back. It only needs to set the following entries in its BGP configuration file (also restarting the BGP daemon).\n",
    "\n",
    "```\n",
    "#########################################\n",
    "# Added for BGP Attack\n",
    "# Fight back\n",
    "#########################################\n",
    "\n",
    "protocol static {\n",
    "  ipv4 { table t_bgp; };\n",
    "  route 10.153.0.0/26 via \"net0\" {\n",
    "           bgp_large_community.add(LOCAL_COMM);\n",
    "  };\n",
    "  route 10.153.0.64/26 via \"net0\" {\n",
    "           bgp_large_community.add(LOCAL_COMM);\n",
    "  };\n",
    "  route 10.153.0.128/26 via \"net0\" {\n",
    "           bgp_large_community.add(LOCAL_COMM);\n",
    "  };\n",
    "  route 10.153.0.192/26 via \"net0\" {\n",
    "           bgp_large_community.add(LOCAL_COMM);\n",
    "  };\n",
    "}\n",
    "\n",
    "```"
   ]
  },
  {
   "cell_type": "markdown",
   "id": "02f6447f-d31e-449e-96ac-e582b1332a7c",
   "metadata": {},
   "source": [
    "Step 2: We have already put the modified configuration in `as153brd_bird.conf_fightback`. We only need to copy it to AS-153's BGP router. After running the following commands, we should be able to see that the packet flow changes back to its original path, flowing to AS-153 now."
   ]
  },
  {
   "cell_type": "code",
   "execution_count": null,
   "id": "45708418-b20d-4de9-a55d-9de9e4e1d6dc",
   "metadata": {},
   "outputs": [],
   "source": [
    "%%bash\n",
    "docker cp as153brd_bird.conf_fightback as153brd-router0-10.153.0.254:/etc/bird/bird.conf\n",
    "docker exec as153brd-router0-10.153.0.254 birdc configure"
   ]
  },
  {
   "cell_type": "markdown",
   "id": "97c29273-12d5-4af6-8ebb-bfcca5a2ec32",
   "metadata": {},
   "source": [
    "## 3. Let AS-199's up-stream provider solve the problem"
   ]
  },
  {
   "cell_type": "markdown",
   "id": "48d12f6d-9ca1-44af-8f17-2d67fc3238da",
   "metadata": {},
   "source": [
    "Step 1: Before doing this task, we first restore AS-153's configuration, so the attack is still in effect. We want to ask AS-199's up-stream provider to solve this problem. "
   ]
  },
  {
   "cell_type": "code",
   "execution_count": null,
   "id": "72df0c9d-9fca-4e41-b7ae-da6c0ff3d207",
   "metadata": {},
   "outputs": [],
   "source": [
    "%%bash\n",
    "docker cp as153brd_bird.conf_original as153brd-router0-10.153.0.254:/etc/bird/bird.conf\n",
    "docker exec as153brd-router0-10.153.0.254 birdc configure"
   ]
  },
  {
   "cell_type": "markdown",
   "id": "85df351e-b883-4574-aabf-b0e8ccb8f801",
   "metadata": {},
   "source": [
    "Step 2: Let's find out who AS-199's up-stream service provider is. We run the following command to ask AS-199's BGP router to provide information."
   ]
  },
  {
   "cell_type": "code",
   "execution_count": null,
   "id": "be755bed-b127-43c9-9f96-f9e8764d77c0",
   "metadata": {},
   "outputs": [],
   "source": [
    "!docker exec as199brd-router0-10.199.0.254 birdc show protocols"
   ]
  },
  {
   "cell_type": "markdown",
   "id": "9c3cf28f-a847-45b5-b2e4-4c2b7829398c",
   "metadata": {},
   "source": [
    "From the result, we can see only one BGP session, which is `u_as2`; this is AS-2. This autonomous system has multiple BGP routers. From the Internet Map, we can see that AS-199 and AS-2 peer at IX-105. We can find the container name for the corresponding BGP router (`as2brd-r105-10.105.0.2`)."
   ]
  },
  {
   "cell_type": "code",
   "execution_count": null,
   "id": "58e51d16-b827-42e3-a5bf-27c6c151d9ab",
   "metadata": {},
   "outputs": [],
   "source": [
    "!docker ps | grep as2"
   ]
  },
  {
   "cell_type": "markdown",
   "id": "3856f1aa-b336-4a5d-a1fe-caf36c2637e9",
   "metadata": {},
   "source": [
    "Step 3: We can get `as2brd-r105-10.105.0.2`'s BGP configuration file. We add one line to it (see the line with the comment). This line checks whether the IP prefix in AS-199's BGP announcement is `10.199.0.0/24` or not, if not, reject the BGP announcement.\n",
    "```\n",
    "protocol bgp c_as199 {\n",
    "    ipv4 {\n",
    "        table t_bgp;\n",
    "        import filter {\n",
    "            bgp_large_community.add(CUSTOMER_COMM);\n",
    "            bgp_local_pref = 30;\n",
    "            if (net != 10.199.0.0/24) then reject;  ### Block this BGP announcement \n",
    "            accept;\n",
    "        };\n",
    "        export all;\n",
    "        next hop self;\n",
    "    };\n",
    "    local 10.105.0.2 as 2;\n",
    "    neighbor 10.105.0.199 as 199;\n",
    "}\n",
    "```"
   ]
  },
  {
   "cell_type": "markdown",
   "id": "be9f6b39-750a-4825-9b6e-d95c92b1ed6d",
   "metadata": {},
   "source": [
    "Step 4: Let's copy the modified BGP file back to `as2brd-r105-10.105.0.2`. We have already saved the modified configuration in `as2brd-r105_bird.conf_fixproblem`. Run the following command, we should be able to see that the packet flow is restored, now going to AS-153 again. "
   ]
  },
  {
   "cell_type": "code",
   "execution_count": null,
   "id": "f4850a7b-f808-4840-9aa9-0980f5d8163b",
   "metadata": {},
   "outputs": [],
   "source": [
    "%%bash\n",
    "docker cp  as2brd-r105_bird.conf_fixproblem as2brd-r105-10.105.0.2:/etc/bird/bird.conf\n",
    "docker exec as2brd-r105-10.105.0.2 birdc configure"
   ]
  }
 ],
 "metadata": {
  "kernelspec": {
   "display_name": "Python 3 (ipykernel)",
   "language": "python",
   "name": "python3"
  },
  "language_info": {
   "codemirror_mode": {
    "name": "ipython",
    "version": 3
   },
   "file_extension": ".py",
   "mimetype": "text/x-python",
   "name": "python",
   "nbconvert_exporter": "python",
   "pygments_lexer": "ipython3",
   "version": "3.10.16"
  }
 },
 "nbformat": 4,
 "nbformat_minor": 5
}
