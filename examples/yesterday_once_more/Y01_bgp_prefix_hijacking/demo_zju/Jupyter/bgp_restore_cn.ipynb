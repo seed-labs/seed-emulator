{
 "cells": [
  {
   "cell_type": "markdown",
   "id": "ad6e0a93-3e30-4cb1-af45-d63dbb7a1565",
   "metadata": {},
   "source": [
    "# 恢复 BGP 配置文件\n",
    "\n",
    "这里列出了恢复 AS-199， AS-153，和 AS-2 的 BGP 配置的命令。"
   ]
  },
  {
   "cell_type": "markdown",
   "id": "df69ba48-dbc8-4f73-b8df-b079f561ab3e",
   "metadata": {},
   "source": [
    "## 恢复 AS-199 的 BGP 配置"
   ]
  },
  {
   "cell_type": "code",
   "execution_count": null,
   "id": "5a88417e-5686-4ec5-8741-10fed6d9fe3f",
   "metadata": {},
   "outputs": [],
   "source": [
    "%%bash\n",
    "docker cp  as199_bird.conf_original as199brd-attacker-bgp-10.199.0.254:/etc/bird/bird.conf\n",
    "docker exec as199brd-attacker-bgp-10.199.0.254 birdc configure"
   ]
  },
  {
   "cell_type": "markdown",
   "id": "7e12feea-bfd2-4ae2-b0cb-59ad565fc0ce",
   "metadata": {},
   "source": [
    "## 恢复 AS-88888 的 BGP 配置"
   ]
  },
  {
   "cell_type": "code",
   "execution_count": null,
   "id": "e48ed8a8-afe1-466f-a292-972ca599bcc8",
   "metadata": {},
   "outputs": [],
   "source": [
    "%%bash\n",
    "docker cp as88888_bird.conf_original as88888brd-real-world-zju-10.103.0.177:/etc/bird/bird.conf\n",
    "docker exec as88888brd-real-world-zju-10.103.0.177 birdc configure"
   ]
  },
  {
   "cell_type": "markdown",
   "id": "0a9d4476-ee41-4711-ba7b-84b6930b49fb",
   "metadata": {},
   "source": [
    "## 恢复 AS-11 的 BGP 配置"
   ]
  },
  {
   "cell_type": "code",
   "execution_count": null,
   "id": "239005cf-7176-4dc8-b297-f78b7c3c7f55",
   "metadata": {},
   "outputs": [],
   "source": [
    "%%bash\n",
    "docker cp as11_r105_bird.conf_original as11brd-r105-10.105.0.11:/etc/bird/bird.conf\n",
    "docker exec as11brd-r105-10.105.0.11 birdc configure"
   ]
  }
 ],
 "metadata": {
  "kernelspec": {
   "display_name": "Python 3 (ipykernel)",
   "language": "python",
   "name": "python3"
  },
  "language_info": {
   "codemirror_mode": {
    "name": "ipython",
    "version": 3
   },
   "file_extension": ".py",
   "mimetype": "text/x-python",
   "name": "python",
   "nbconvert_exporter": "python",
   "pygments_lexer": "ipython3",
   "version": "3.10.16"
  }
 },
 "nbformat": 4,
 "nbformat_minor": 5
}
