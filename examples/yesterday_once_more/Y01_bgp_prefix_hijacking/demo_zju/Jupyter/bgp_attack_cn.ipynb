{
 "cells": [
  {
   "cell_type": "markdown",
   "id": "c7c3200f-cd40-4986-b1c3-cb9432bc8b1e",
   "metadata": {},
   "source": [
    "# BGP 网络前缀劫持攻击\n",
    "\n",
    "欢迎来到浙江大学网络安全宣传周“昨日重现”专题展 BGP 网络前缀劫持攻击部分！\n",
    "\n",
    "在互联网的庞大体系中，BGP（边界网关协议）作为核心路由协议，原生并没有对 IP 前缀归属进行验证，这使得任何自治系统（AS）都有可能通过 BGP 路由器，向全球宣告并传播并不属于自己的 IP 地址前缀。这类“虚假前缀”一旦被其他网络接收，往往因 BGP “最长前缀优先”的选路原则，导致原本流向正确目的地的网络流量部分甚至全部被错误引导至攻击者掌控的网络，从而发生数据截获、篡改甚至服务中断的风险，这种现象就是我们所说的 BGP 前缀劫持攻击。\n",
    "\n",
    "在本实验中，你将亲身体验一次 BGP 前缀劫持攻击的全过程，深入理解其原理与危害，并学习如何应对这类安全威胁。请随我们一同踏入互联网路由安全的边界，用行动守护我们的网络世界！"
   ]
  },
  {
   "cell_type": "markdown",
   "id": "550306c9-42a0-4671-b72c-f0a302171b51",
   "metadata": {},
   "source": [
    "## 设置环境\n",
    "\n",
    "在这个实验中，我们用 AS-199 来劫持浙江大学官网的 IP 前缀（`58.205.0.0/16`、`222.192.0.0/16`、`10.203.0.0/16` 和 `118.228.0.0/16`）。为了帮助观察 BGP 劫持的效果，我们先从一台虚拟机上访问 ZJU 网络。在 Internet Map 上我们应该可以看到数据包的流动（在 Filter 栏填入 `tcp and net 58.205.0.0/16 or net 222.192.0.0/16 or net 10.203.0.0/16 or net 118.228.0.0/16`，加回车）：\n",
    "\n",
    "- 如若展示效果不佳，可以在虚拟机上手动运行 `ping www.zju.edu.cn`，并在 Filter 栏填入 `icmp or tcp and net 58.205.0.0/16 or net 222.192.0.0/16 or net 10.203.0.0/16 or net 118.228.0.0/16`，加回车"
   ]
  },
  {
   "cell_type": "markdown",
   "id": "488c08d5-11b1-4f64-afe6-70004ace09bf",
   "metadata": {},
   "source": [
    "## 1. 劫持 ZJU 网络\n",
    "\n",
    "第一步：在本实验中，攻击者是 AS-199， 所以我们先获取 AS-199 的 BGP 配置文件，对其进行修改。可以通过下面的命令从仿真器里获得配置文件。"
   ]
  },
  {
   "cell_type": "code",
   "execution_count": null,
   "id": "5cea8958-4fd3-4a7f-955b-c990cd5a48e5",
   "metadata": {},
   "outputs": [],
   "source": [
    "!docker cp as199brd-attacker-bgp-10.199.0.254:/etc/bird/bird.conf ./as199_bird.conf"
   ]
  },
  {
   "cell_type": "markdown",
   "id": "1a1d9c2d-4a77-4c24-9846-b08343e6bd38",
   "metadata": {},
   "source": [
    "第二步：我们将下面的配置内容加到 AS-199 的 BGP 配置文件的最后。这些配置对 `58.205.0.0/16`、`222.192.0.0/16`、`10.203.0.0/16` 和 `118.228.0.0/16` 网络进行了劫持"
   ]
  },
  {
   "cell_type": "markdown",
   "id": "fb8d0597-6ce9-4d63-9528-b059f4469f58",
   "metadata": {},
   "source": [
    "```\n",
    "##############################################\n",
    "# Added BGP Attack\n",
    "# Hijack ZJU's network prefix 58.205.0.0/16 or 222.192.0.0/16 or 10.203.0.0/16 or 118.228.0.0/16\n",
    "##############################################\n",
    "\n",
    "protocol static {\n",
    "  ipv4 { table t_bgp;  };\n",
    "  route 58.205.0.0/17 blackhole   {\n",
    "      bgp_large_community.add(LOCAL_COMM);\n",
    "  };\n",
    "  route 58.205.128.0/17 blackhole {\n",
    "      bgp_large_community.add(LOCAL_COMM);\n",
    "  };\n",
    "  route 222.192.0.0/17 blackhole {\n",
    "      bgp_large_community.add(LOCAL_COMM);\n",
    "  };\n",
    "  route 222.192.128.0/17 blackhole {\n",
    "      bgp_large_community.add(LOCAL_COMM);\n",
    "  };\n",
    "  route 10.203.0.0/17 blackhole {\n",
    "      bgp_large_community.add(LOCAL_COMM);\n",
    "  };\n",
    "  route 10.203.128.0/17 blackhole {\n",
    "      bgp_large_community.add(LOCAL_COMM);\n",
    "  }\n",
    "  route 118.228.0.0/17 blackhole {\n",
    "      bgp_large_community.add(LOCAL_COMM);\n",
    "  }\n",
    "  route 118.228.128.0/17 blackhole {\n",
    "      bgp_large_community.add(LOCAL_COMM);\n",
    "  }\n",
    "}\n",
    "```"
   ]
  },
  {
   "cell_type": "markdown",
   "id": "1f159bd9-570d-462a-bc42-106f5b891741",
   "metadata": {},
   "source": [
    "第三步：完成了上面的修改后将改过后的 BGP 配置文件拷贝回 AS-199，然后重启 AS-199 的 BGP 守护进程。我们把修改过的配置文件放在了 `as199brd_bird.conf_malicious` 中，你只需要运行下面的命令即可发起攻击。"
   ]
  },
  {
   "cell_type": "code",
   "execution_count": null,
   "id": "c90eb559-b571-499f-914f-0219712342fa",
   "metadata": {},
   "outputs": [],
   "source": [
    "%%bash\n",
    "docker cp  as199_bird.conf_malicious as199brd-attacker-bgp-10.199.0.254:/etc/bird/bird.conf\n",
    "docker exec as199brd-attacker-bgp-10.199.0.254 birdc configure"
   ]
  },
  {
   "cell_type": "markdown",
   "id": "75fa08d8-e9d2-4af6-96ba-f21725823f0a",
   "metadata": {},
   "source": [
    "第四步：从 Internet Map 上我们可以看到数据包的流向改变了，流向了 AS-199。现在在任何一台机器访问 ZJU 网络都会发现没有回复。我们可以去看一下 `as3brd-r103-10.103.0.3` 上的路由（这是一个 transit 自治系统），我们可以看到真实路由器所属的 AS88888 的网络有 3 个记录，其中 `58.205.0.0/17` 和 `58.205.128.0/17` 完全覆盖了 `58.205.0.0/16`（或者是 `222.192.0.0/17` 和 `222.192.128.0/17` 完全覆盖了 `222.192.0.0/16`）。从记录可以看出，去往前两个地址的下一跳路由（`10.3.0.254`）和去往 `58.205.0.0/16`（或者 `222.192.0.0/16`）的下一跳路由（`10.3.1.253`）是不一样的，这说明去往 ZJU 网络的包改道了。"
   ]
  },
  {
   "cell_type": "code",
   "execution_count": null,
   "id": "26ded91b-79f1-44c9-b493-1bb4d22ca6b8",
   "metadata": {},
   "outputs": [],
   "source": [
    "!docker exec as3brd-r103-10.103.0.3 ip route | grep -E '58\\.205|222\\.192|10\\.203|118\\.228'"
   ]
  },
  {
   "cell_type": "markdown",
   "id": "6a4d06ba-1423-42bf-a41b-b1f64854801b",
   "metadata": {},
   "source": [
    "## 2. 浙江大学的反击"
   ]
  },
  {
   "cell_type": "markdown",
   "id": "ad994221-fcbb-46bb-9702-538dd3727f43",
   "metadata": {},
   "source": [
    "第一步：浙江大学可以用同样的方法，宣称更长的前缀，将自己的网络劫持回来。只要在真实路由器的 BGP 配置文件中将配置改动即可，然后重启 BGP 守护进程。\n",
    "\n",
    "```\n",
    "#########################################\n",
    "# Original BGP configuration\n",
    "#########################################\n",
    "\n",
    "# protocol static real_world {\n",
    "#     ipv4 { table t_rw; import all; };\n",
    "#     route 58.205.0.0/16 via 192.168.66.1;\n",
    "#     route 222.192.0.0/16 via 192.168.66.1;\n",
    "#     route 10.203.0.0/16 via 192.168.66.1;\n",
    "#     route 118.228.0.0/16 via 192.168.66.1;\n",
    "# }\n",
    "\n",
    "#########################################\n",
    "# Fight Back\n",
    "#########################################\n",
    "\n",
    "protocol static real_world {\n",
    "    ipv4 { table t_rw; import all; };\n",
    "    route 58.205.0.0/18 via 192.168.66.1;\n",
    "    route 58.205.64.0/18 via 192.168.66.1;\n",
    "    route 58.205.128.0/18 via 192.168.66.1;\n",
    "    route 58.205.192.0/18 via 192.168.66.1;\n",
    "    route 222.192.0.0/18 via 192.168.66.1;\n",
    "    route 222.192.64.0/18 via 192.168.66.1;\n",
    "    route 222.192.128.0/18 via 192.168.66.1;\n",
    "    route 222.192.192.0/18 via 192.168.66.1;\n",
    "    route 10.203.0.0/18 via 192.168.66.1;\n",
    "    route 10.203.64.0/18 via 192.168.66.1;\n",
    "    route 10.203.128.0/18 via 192.168.66.1;\n",
    "    route 10.203.192.0/18 via 192.168.66.1;\n",
    "    route 118.228.0.0/18 via 192.168.66.1;\n",
    "    route 118.228.64.0/18 via 192.168.66.1;\n",
    "    route 118.228.128.0/18 via 192.168.66.1;\n",
    "    route 118.228.192.0/18 via 192.168.66.1;\n",
    "}\n",
    "```"
   ]
  },
  {
   "cell_type": "markdown",
   "id": "02f6447f-d31e-449e-96ac-e582b1332a7c",
   "metadata": {},
   "source": [
    "第二步：我们已经将修改过的配置放在了 `as88888_bird.conf_fightback` 中，只要把它拷贝回 AS-88888 的容器就可以。运行完下面的命令后，从 Internet Map 上我们可以看到数据包的流向改变了，重新流向了我们想要的真实路由器。"
   ]
  },
  {
   "cell_type": "code",
   "execution_count": null,
   "id": "45708418-b20d-4de9-a55d-9de9e4e1d6dc",
   "metadata": {},
   "outputs": [],
   "source": [
    "%%bash\n",
    "docker cp as88888_bird.conf_fightback as88888brd-real-world-zju-10.103.0.177:/etc/bird/bird.conf\n",
    "docker exec as88888brd-real-world-zju-10.103.0.177 birdc configure"
   ]
  },
  {
   "cell_type": "markdown",
   "id": "97c29273-12d5-4af6-8ebb-bfcca5a2ec32",
   "metadata": {},
   "source": [
    "## 3. 让 AS-199 的上游服务商来解决问题"
   ]
  },
  {
   "cell_type": "markdown",
   "id": "48d12f6d-9ca1-44af-8f17-2d67fc3238da",
   "metadata": {},
   "source": [
    "第一步：在做这个任务之前，我们先恢复 AS-153 的配置，这样攻击仍然有效，我们就可以让上游服务商来解决这个问题。"
   ]
  },
  {
   "cell_type": "code",
   "execution_count": null,
   "id": "72df0c9d-9fca-4e41-b7ae-da6c0ff3d207",
   "metadata": {},
   "outputs": [],
   "source": [
    "%%bash\n",
    "docker cp as88888_bird.conf_original as88888brd-real-world-zju-10.103.0.177:/etc/bird/bird.conf\n",
    "docker exec as88888brd-real-world-zju-10.103.0.177 birdc configure"
   ]
  },
  {
   "cell_type": "markdown",
   "id": "85df351e-b883-4574-aabf-b0e8ccb8f801",
   "metadata": {},
   "source": [
    "第二步：我们先来看一下 AS-199 的上游服务商是谁。下面的命令在 AS-199 的 BGP 路由器向 BGP 的守护进程 `bird` 查询信息。"
   ]
  },
  {
   "cell_type": "code",
   "execution_count": null,
   "id": "be755bed-b127-43c9-9f96-f9e8764d77c0",
   "metadata": {},
   "outputs": [],
   "source": [
    "!docker exec as199brd-attacker-bgp-10.199.0.254 birdc show protocols"
   ]
  },
  {
   "cell_type": "markdown",
   "id": "9c3cf28f-a847-45b5-b2e4-4c2b7829398c",
   "metadata": {},
   "source": [
    "从结果我们可以看到只有一个 BGP session（第2列），也就是 `u_as11`，这是 AS-11。这个自治系统在多处有 BGP 路由器，从 Internet Map 上可以看到，AS-199 和 AS-11 是在 IX-105 进行的对待连接（peering）。我们可以找到相应的容器的名字（`as11brd-r105-10.105.0.11`）："
   ]
  },
  {
   "cell_type": "code",
   "execution_count": null,
   "id": "58e51d16-b827-42e3-a5bf-27c6c151d9ab",
   "metadata": {},
   "outputs": [],
   "source": [
    "!docker ps | grep as11"
   ]
  },
  {
   "cell_type": "markdown",
   "id": "3856f1aa-b336-4a5d-a1fe-caf36c2637e9",
   "metadata": {},
   "source": [
    "第三步：我们可以获取 `as11brd-r105-10.105.0.11` 的 BGP 配置文件，加入一行到它和 AS-199 的配置里（见下面的带注释的行）。这行判断 AS-199 对外 announce 的网络前缀是否是 `10.199.0.0/24`，如果不是的话就拒绝接受这个 BGP announcement。\n",
    "```\n",
    "protocol bgp c_as199 {\n",
    "    ipv4 {\n",
    "        table t_bgp;\n",
    "        import filter {\n",
    "            bgp_large_community.add(CUSTOMER_COMM);\n",
    "            bgp_local_pref = 30;\n",
    "            if (net != 10.199.0.0/24) then reject;  ### 阻挡伪造的 BGP announcement \n",
    "            accept;\n",
    "        };\n",
    "        export all;\n",
    "        next hop self;\n",
    "    };\n",
    "    local 10.105.0.11 as 11;\n",
    "    neighbor 10.105.0.199 as 199;\n",
    "}\n",
    "```"
   ]
  },
  {
   "cell_type": "markdown",
   "id": "be9f6b39-750a-4825-9b6e-d95c92b1ed6d",
   "metadata": {},
   "source": [
    "第四步：把修改过的 BGP 配置文件传回 `as11brd-r105-10.105.0.11`。我们修改过的文件是 `as11_r105_bird.conf_fixproblem`。运行完下面的命令，从 Internet Map 上我们可以看到数据包的流向改变了，重新流向了 AS-153。"
   ]
  },
  {
   "cell_type": "code",
   "execution_count": null,
   "id": "f4850a7b-f808-4840-9aa9-0980f5d8163b",
   "metadata": {},
   "outputs": [],
   "source": [
    "%%bash\n",
    "docker cp as11_r105_bird.conf_fixproblem as11brd-r105-10.105.0.11:/etc/bird/bird.conf\n",
    "docker exec as11brd-r105-10.105.0.11 birdc configure"
   ]
  }
 ],
 "metadata": {
  "kernelspec": {
   "display_name": "Python 3 (ipykernel)",
   "language": "python",
   "name": "python3"
  },
  "language_info": {
   "codemirror_mode": {
    "name": "ipython",
    "version": 3
   },
   "file_extension": ".py",
   "mimetype": "text/x-python",
   "name": "python",
   "nbconvert_exporter": "python",
   "pygments_lexer": "ipython3",
   "version": "3.10.16"
  }
 },
 "nbformat": 4,
 "nbformat_minor": 5
}
