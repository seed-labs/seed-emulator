{
 "cells": [
  {
   "cell_type": "markdown",
   "metadata": {},
   "source": [
    "# Example: Mirai Botnet Attack Simulation\n",
    "\n",
    "This Notebook aims to demonstrate how to use the Seed-Emulator platform to replicate the core behaviors of the Mirai botnet. Through interactive code cells, you will be guided step-by-step through the entire process, from building the environment and propagating the worm to launching a DDoS attack and triggering the kill switch.\n",
    "\n",
    "### About the Mirai Malware\n",
    "Mirai is an infamous piece of malware that primarily infects Internet of Things (IoT) devices, assembling them into a massive, remotely controlled botnet. Its main propagation method is by scanning the internet for devices with open Telnet ports that are still using factory default credentials. Once a device is infected, it becomes part of the botnet (a \"bot\") and follows commands from a Command & Control (C2) server to launch large-scale Distributed Denial of Service (DDoS) attacks.\n",
    "\n",
    "### Demonstration Overview\n",
    "This example will guide you through the following key steps:\n",
    "1.  **Build the Simulation Environment**: Automatically compile and launch a mini-internet environment containing multiple Autonomous Systems (ASes), routers, and hosts.\n",
    "2.  **Build the Botnet**: Start the C2 server and release the worm script, observing its automatic propagation and infection process via weak password scanning in the simulated network.\n",
    "3.  **Launch a DDoS Attack**: Control all infected bots to launch a traffic attack against a target website.\n",
    "4.  **Observe the Attack's Effect**: Visually assess the impact of the DDoS attack on the web service's performance through browser access and a network topology map.\n",
    "5.  **Trigger the DNS Kill Switch**: Demonstrate the DNS \"kill switch\" mechanism designed in Mirai and observe how it terminates the worm's further propagation."
   ]
  },
  {
   "cell_type": "markdown",
   "metadata": {},
   "source": [
    "## Step 1: Environment Preparation and Compilation\n",
    "\n",
    "Before you begin, please ensure that **Docker** and **Python 3** are installed on your system. This Notebook relies on the `!` command to execute shell scripts.\n",
    "\n",
    "First, let's confirm that the project file structure is complete. The following command will display the structure of the current directory."
   ]
  },
  {
   "cell_type": "code",
   "execution_count": null,
   "metadata": {},
   "outputs": [],
   "source": [
    "!tree -L 2"
   ]
  },
  {
   "cell_type": "markdown",
   "metadata": {},
   "source": [
    "**Expected Output**: You should see a directory structure similar to the one below, containing all the necessary `.py` and `.sh` script files.\n",
    "```\n",
    ".\n",
    "├── container_files\n",
    "│   ├── mirai-base\n",
    "│   └── z_build.sh\n",
    "├── dns_component.py\n",
    "├── mini_internet_for_mirai.py\n",
    "├── mirai_internet_with_dns.py\n",
    "├── mirai.py\n",
    "├── misc\n",
    "│   └── index.html\n",
    "├── README.md\n",
    "└── scripts\n",
    "    ├── add_dns_record.sh\n",
    "    ├── start_c2_server.sh\n",
    "    ├── start_com-a_server.sh\n",
    "    └── start_victim_host.sh\n",
    "```\n",
    "---\n",
    "Next, run the main script `mirai_internet_with_dns.py`. This script will invoke the core functionalities of Seed-Emulator to compile the defined network topology, hosts, and services into a set of Docker Compose configuration files. This process is expected to take several seconds."
   ]
  },
  {
   "cell_type": "code",
   "execution_count": null,
   "metadata": {},
   "outputs": [],
   "source": [
    "print(\"Compiling the simulation environment, please wait...\")\n",
    "!python3 mirai_internet_with_dns.py\n",
    "print(\"Compilation complete. The output/ directory has been generated.\")"
   ]
  },
  {
   "cell_type": "markdown",
   "metadata": {},
   "source": [
    "## Step 2: Launching the Simulation Environment\n",
    "\n",
    "After compilation, we will launch the simulation environment in two steps: first, build the Docker images, and then start all the containers. Building the images for the first time may take several minutes."
   ]
  },
  {
   "cell_type": "code",
   "execution_count": null,
   "metadata": {},
   "outputs": [],
   "source": [
    "print(\"Building Docker images... (this may take a while on the first run)\")\n",
    "!cd output && DOCKER_BUILDKIT=0 docker compose build\n",
    "print(\"Image build complete.\")"
   ]
  },
  {
   "cell_type": "code",
   "execution_count": null,
   "metadata": {},
   "outputs": [],
   "source": [
    "print(\"Starting all containers in the background...\")\n",
    "!cd output && docker compose up -d\n",
    "print(\"All containers have been started successfully.\")"
   ]
  },
  {
   "cell_type": "markdown",
   "metadata": {},
   "source": [
    "### Visualizing the Network Topology\n",
    "\n",
    "The simulation environment provides a web-based visualization interface for real-time monitoring of the network topology and data flow.\n",
    "\n",
    "Please open the following address in your web browser: [http://localhost:8080/map.html](http://localhost:8080/map.html)\n",
    "\n",
    "Through this interactive map, you can visually observe the worm's propagation path and the traffic flow of the DDoS attack in the subsequent steps."
   ]
  },
  {
   "cell_type": "markdown",
   "metadata": {},
   "source": [
    "## Step 3: Building the Botnet\n",
    "\n",
    "With the environment deployed, it's time to begin the core steps of the attack simulation. First, we will start the Command & Control (C2) server, and then release the worm to act as \"patient zero\" and begin infecting the network."
   ]
  },
  {
   "cell_type": "markdown",
   "metadata": {},
   "source": [
    "### 3.1 Start the C2 Server (BYOB)\n",
    "\n",
    "The C2 server is the control center of the botnet, used to receive connections from bots and issue commands. This example uses the open-source tool **BYOB (Build Your Own Botnet)** as the C2 framework.\n",
    "\n",
    "**Note: Manual action required**\n",
    "This step requires an interactive terminal to run the BYOB console. Please **open a new local terminal window** and execute the following command to enter the C2 server's shell:\n",
    "\n",
    "```bash\n",
    "# Run in a new local terminal:\n",
    "./scripts/start_c2_server.sh\n",
    "```\n",
    "\n",
    "After entering the C2 server's shell, execute the following command to start the BYOB server:\n",
    "\n",
    "```bash\n",
    "# Run in the C2 server's shell:\n",
    "cd /tmp/byob/byob/\n",
    "python3 server.py --port 445\n",
    "```\n",
    "\n",
    "When you see the BYOB welcome screen, it means the C2 server is running successfully and is listening for connections. **Please keep this terminal window open**. You can type `sessions` in this window at any time to view the list of connected bots."
   ]
  },
  {
   "cell_type": "markdown",
   "metadata": {},
   "source": [
    "### 3.2 Release the Worm and Observe Propagation\n",
    "\n",
    "Once the C2 service is ready, the worm can be released. We will start from the C2 server itself by running the `mirai.py` script. It will act as the first infected node, scanning the network for other devices with weak Telnet credentials and implanting copies of itself.\n",
    "\n",
    "**Preparation for Observation**: To clearly observe the propagation process, please first go to the [network map](http://localhost:8080/map.html) and enter `dst 10.170.0.100` in the filter box, then press Enter. This will highlight all traffic directed to the C2 server (IP: `10.170.0.100`).\n",
    "\n",
    "Now, execute the code cell below to start the worm."
   ]
  },
  {
   "cell_type": "code",
   "execution_count": null,
   "metadata": {},
   "outputs": [],
   "source": [
    "print(\"Releasing the 'mirai.py' worm on the C2 server...\")\n",
    "c2_container_id = !docker ps -f \"name=C2_server\" -q\n",
    "if c2_container_id:\n",
    "    !docker exec -d {c2_container_id[0]} sh -c 'cd /var/www/html/ && python3 mirai.py > /tmp/mirai_worm.log 2>&1'\n",
    "    print(\"The worm is now running in the background and will begin to scan and infect other hosts in the network.\")\n",
    "else:\n",
    "    print(\"Error: Could not find the C2_server container.\")"
   ]
  },
  {
   "cell_type": "markdown",
   "metadata": {},
   "source": [
    "### 3.3 Observing the Propagation Process\n",
    "\n",
    "After executing the previous step, the worm has started to spread. Please switch to the browser window with the [network map](http://localhost:8080/map.html) to observe.\n",
    "\n",
    "You will see a continuous stream of new nodes initiating connections to the C2 server, which indicates that these nodes are downloading the `mirai.py` worm script. The traffic dynamics of the entire propagation process will be visually presented before you.\n",
    "\n",
    "Meanwhile, in the terminal where you are running BYOB, you will see new session connection messages appearing. Once the network is fully infected, the total number of sessions will exceed 90, which can serve as a reference for the propagation progress."
   ]
  },
  {
   "cell_type": "markdown",
   "metadata": {},
   "source": [
    "## Step 4: Launching the DDoS Attack\n",
    "\n",
    "After a period of propagation, our botnet has reached a considerable size. Next, we will leverage these bots to launch an application-layer DDoS attack against the target website (`host_victim`, IP: `10.170.0.99`)."
   ]
  },
  {
   "cell_type": "markdown",
   "metadata": {},
   "source": [
    "### 4.1 Prepare a Large File for the Attack and Access the Victim Website\n",
    "\n",
    "To make the attack's effects more observable, we will have all bots repeatedly download a large file or a large video to exhaust the victim's bandwidth. Please ensure that a large file named `image.png` (e.g., larger than 10MB) and a large video names `video.mp4`(e.g., larger than 500MB) exists in the `misc/` directory.\n",
    "\n",
    "You can prepare these files in one of the following ways:\n",
    "\n",
    "**Option 1: Use your own file**\n",
    "Place a large image and a large video in the `misc/` directory and rename it to `image.png`, `video.mp4`.\n",
    "\n",
    "**Option 2: Generate a file using ImageMagick**\n",
    "If you have ImageMagick installed on your system, you can run the following command to generate an image of about 60MB. If it's not installed, you can install it using `sudo apt-get update && sudo apt-get install imagemagick` (for Debian/Ubuntu) or the corresponding package manager for your system."
   ]
  },
  {
   "cell_type": "code",
   "execution_count": null,
   "metadata": {},
   "outputs": [],
   "source": [
    "print(\"Generating a 4000x3000 sample image file...\")\n",
    "!convert -size 4000x3000 plasma:fractal misc/image.png\n",
    "print(\"File 'misc/image.png' has been generated.\")\n",
    "!ls -lh misc/image.png"
   ]
  },
  {
   "cell_type": "markdown",
   "metadata": {},
   "source": [
    "Once the file is ready, let's first access the victim website under normal conditions. Port 80 of the website has been mapped to port **8888** on your local machine.\n",
    "\n",
    "\n",
    "Please click the link to open it in a new browser tab: [http://localhost:8888/index.html](http://localhost:8888/index.html) / [http://localhost:8888/video.mp4](http://localhost:8888/video.mp4)\n",
    "\n",
    "Under normal circumstances, the large image or the large video on the page should load smoothly. You can refresh it a few times to get a feel for its normal loading speed."
   ]
  },
  {
   "cell_type": "markdown",
   "metadata": {},
   "source": [
    "### 4.2 Issuing the Attack Command\n",
    "\n",
    "Now, switch to the terminal window where you are running the **BYOB console**, type the following command, and press Enter. This command will be broadcast to all online bots.\n",
    "\n",
    "if you want to attack the image service:\n",
    "```bash\n",
    "# Enter this command in the BYOB console:\n",
    "broadcast timeout 30s sh -c 'while true; do wget --no-cache -q -O /dev/null http://10.170.0.99/image.png; done'\n",
    "```\n",
    "\n",
    "or you want to attack the video service:\n",
    "```bash\n",
    "broadcast timeout 40s sh -c 'while true; do wget --no-cache -q -O /dev/null http://10.170.0.99/video.mp4; done'\n",
    "```\n",
    "\n",
    "**Command Parameter Breakdown**: \n",
    "- `broadcast`: A built-in BYOB command to send the subsequent instruction to all connected bots.\n",
    "- `timeout 30s`: A safety feature that instructs the bots to automatically stop the task after 10 seconds, preventing the command from running indefinitely.\n",
    "- `sh -c '...'`: Executes the following string as a shell command on the bot.\n",
    "- `while true; do ...; done`: An infinite loop to make the download action continuous.\n",
    "- `wget --no-cache -q -O /dev/null ...`: Uses `wget` to download the file. `--no-cache` attempts to bypass caches, `-q` enables quiet mode, and `-O /dev/null` discards the downloaded content without saving it to disk, thus only generating network traffic.\n"
   ]
  },
  {
   "cell_type": "markdown",
   "metadata": {},
   "source": [
    "### 4.3 Observing the Attack's Effect\n",
    "\n",
    "After issuing the attack command, you can observe its effects in the following ways:\n",
    "\n",
    "#### **For image service:**\n",
    "\n",
    "**Method 1: Refresh During the Attack**\n",
    "Immediately after sending the command, switch to the victim website's browser page ([http://localhost:8888/index.html](http://localhost:8888/index.html)) and perform a **hard refresh** (usually `Ctrl+Shift+R` or `Cmd+Shift+R`). You will notice that the page loading speed slows down significantly, the image may fail to display completely, or the request may even time out. This indicates that the traffic generated by the bots has successfully consumed the server's bandwidth and processing capacity.\n",
    "\n",
    "**Method 2: Before and After Comparison**\n",
    "First, issue the attack command, wait a few seconds, and then open the victim's website in a new browser tab. You may find that the page fails to load at all during the 10-second attack period. Once the `timeout` is reached and the attack stops, refreshing the page again will show that the service has returned to normal.\n",
    "\n",
    "#### **For video service:**\n",
    "Immediately after sending the command, switch to the video page, you will see it can't play at all because the download channel is exhausted by our bot hosts.\n",
    "\n",
    "\n",
    "**Observe on the Visualization Map**\n",
    "At the same time, on the [network map](http://localhost:8080/map.html), set the filter to `dst 10.170.0.99`. You will see a large volume of packets flocking from various bot nodes to the victim host, forming a dense traffic storm."
   ]
  },
  {
   "cell_type": "markdown",
   "metadata": {},
   "source": [
    "## Step 5: Demonstrating the DNS Kill Switch\n",
    "\n",
    "The Mirai's DNS kill-switch mechanism can only be observed while the worm is **actively propagating**. Therefore, to demonstrate this feature, we need to reset the simulation environment and trigger it mid-propagation.\n",
    "\n",
    "### 5.1 Reset the Environment\n",
    "First, run the following cell to shut down and clean up the currently running environment."
   ]
  },
  {
   "cell_type": "code",
   "execution_count": null,
   "metadata": {},
   "outputs": [],
   "source": [
    "print(\"Shutting down and cleaning up the current environment...\")\n",
    "!cd output && docker compose down\n",
    "print(\"Environment has been cleaned up.\")"
   ]
  },
  {
   "cell_type": "markdown",
   "metadata": {},
   "source": [
    "### 5.2 Restart and Re-release the Worm\n",
    "\n",
    "The environment has been reset. Now, please **go back and re-execute the following steps** in this Notebook:\n",
    "\n",
    "1.  **Step 2**: Restart the simulation environment (`docker compose up -d`).\n",
    "2.  **Step 3.1**: In a new terminal, restart the C2 server (`python3 server.py ...`).\n",
    "3.  **Step 3.2**: Re-release the worm (`docker exec ... mirai.py`).\n",
    "\n",
    "### 5.3 Trigger the Kill Switch Mid-Propagation\n",
    "\n",
    "After completing the restart steps above, closely monitor the number of sessions in the BYOB console. When the session count grows to an intermediate value (e.g., 30-50, indicating the worm is still actively spreading), immediately perform the following actions to trigger the kill switch.\n",
    "\n",
    "**Note: Manual action required**\n",
    "Please **open another new local terminal window** and execute the command below to enter the shell of the `.com` top-level domain DNS server:\n",
    "\n",
    "```bash\n",
    "# Run in a new local terminal:\n",
    "./scripts/start_com-a_server.sh\n",
    "```\n",
    "\n",
    "After entering the DNS server's shell, run the pre-configured script to register the `killswitch.com` domain:\n",
    "\n",
    "```bash\n",
    "# Run in the .com DNS server's shell:\n",
    "cd /tmp\n",
    "./add_dns_record.sh killswitch.com\n",
    "```\n",
    "This script will automatically modify the BIND9 DNS server's configuration, add an A record for `killswitch.com`, and reload the service.\n",
    "\n",
    "### 5.4 Observing the Effect\n",
    "\n",
    "After the domain is registered, the `mirai.py` worm instances still propagating in the network will, upon their next DNS query (which occurs periodically, about every 10 seconds), discover that `killswitch.com` can be successfully resolved. At this point, they will trigger their built-in self-destruction logic and terminate their propagation behavior.\n",
    "\n",
    "The most direct way to observe this is by **watching the BYOB console**: you will notice that shortly after triggering the kill switch, the **number of sessions stops increasing**, even if there are still uninfected hosts in the network. This demonstrates that the kill switch has successfully halted the worm's further spread."
   ]
  },
  {
   "cell_type": "markdown",
   "metadata": {},
   "source": [
    "## Step 6: Cleaning Up the Environment\n",
    "\n",
    "At this point, all demonstrations are complete. To free up system resources, please run the command below to shut down and remove all related Docker containers and networks."
   ]
  },
  {
   "cell_type": "code",
   "execution_count": null,
   "metadata": {},
   "outputs": [],
   "source": [
    "print(\"Shutting down and cleaning up all simulation containers...\")\n",
    "!cd output && docker compose down\n",
    "print(\"Cleanup complete.\")"
   ]
  }
 ],
 "metadata": {
  "kernelspec": {
   "display_name": "seed_310",
   "language": "python",
   "name": "python3"
  },
  "language_info": {
   "codemirror_mode": {
    "name": "ipython",
    "version": 3
   },
   "file_extension": ".py",
   "mimetype": "text/x-python",
   "name": "python",
   "nbconvert_exporter": "python",
   "pygments_lexer": "ipython3",
   "version": "3.10.16"
  }
 },
 "nbformat": 4,
 "nbformat_minor": 4
}
